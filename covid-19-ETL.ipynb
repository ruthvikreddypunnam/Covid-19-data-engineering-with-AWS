{
 "cells": [
  {
   "cell_type": "code",
   "execution_count": 0,
   "metadata": {
    "application/vnd.databricks.v1+cell": {
     "inputWidgets": {},
     "nuid": "509aa0c9-e0fb-49f5-8249-d944b3482f2e",
     "showTitle": false,
     "title": ""
    }
   },
   "outputs": [],
   "source": [
    "%python\n",
    "import boto3\n",
    "import pandas as pd\n",
    "from io import StringIO\n",
    "import time"
   ]
  },
  {
   "cell_type": "code",
   "execution_count": 0,
   "metadata": {
    "application/vnd.databricks.v1+cell": {
     "inputWidgets": {},
     "nuid": "8aefe8b5-7876-489d-8e0b-04194333dbdf",
     "showTitle": false,
     "title": ""
    }
   },
   "outputs": [],
   "source": [
    "%python\n",
    "athena_client=boto3.client(\n",
    "    \"athena\",\n",
    "    aws_access_key_id= AWS_ACCESS_KEY,\n",
    "    aws_secret_access_key=AWS_SECRET_KEY,\n",
    "    region_name=AWS_REGION\n",
    ")"
   ]
  },
  {
   "cell_type": "code",
   "execution_count": 0,
   "metadata": {
    "application/vnd.databricks.v1+cell": {
     "inputWidgets": {},
     "nuid": "c76517a9-b9c2-4390-ba0e-ff98f6e055b4",
     "showTitle": false,
     "title": ""
    }
   },
   "outputs": [],
   "source": [
    "Dict={}\n",
    "def download_and_load_query_results(\n",
    "    client: boto3.client,query_response: Dict\n",
    ")-> pd.DataFrame:\n",
    "    while True:\n",
    "        try:\n",
    "            client.get_query_results(\n",
    "                QueryExecutionId=query_response[\"QueryExecutionId\"]\n",
    "            )\n",
    "            break\n",
    "        except Exception as e:\n",
    "            if \"not yet finished\" in str(e):\n",
    "                time.sleep(0.001)\n",
    "            else:\n",
    "                raise e\n",
    "    temp_file_location: str=\"anthena_query_results.csv\"\n",
    "    \n",
    "    s3_client=boto3.client(\n",
    "        \"s3\",\n",
    "        aws_access_key_id= AWS_ACCESS_KEY,\n",
    "        aws_secret_access_key=AWS_SECRET_KEY,\n",
    "        region_name=AWS_REGION\n",
    "    )\n",
    "    s3_client.download_file(\n",
    "        S3_BUCKET_NAME,\n",
    "        f\"{S3_OUTPUT_DIRECTORY}/{query_response['QueryExecutionId']}.csv\",\n",
    "        temp_file_location,\n",
    "    \n",
    "    )\n",
    "    return pd.read_csv(temp_file_location)"
   ]
  },
  {
   "cell_type": "code",
   "execution_count": 0,
   "metadata": {
    "application/vnd.databricks.v1+cell": {
     "inputWidgets": {},
     "nuid": "112f473b-cdfa-45e2-adab-438108ead845",
     "showTitle": false,
     "title": ""
    }
   },
   "outputs": [],
   "source": [
    "response=athena_client.start_query_execution(\n",
    "    QueryString=\"SELECT * FROM engima_jhu\",\n",
    "    QueryExecutionContext={\"Database\":SCHEMA_NAME},\n",
    "    ResultConfiguration={\n",
    "        \"OutputLocation\":S3_STAGING_DIR,\n",
    "        \"EncryptionConfiguration\":{\"EncryptionOption\":\"SSE_S3\"},\n",
    "    }\n",
    ")\n",
    "engima_jhu=download_and_load_query_results(athena_client,response)\n",
    "\n",
    "response=athena_client.start_query_execution(\n",
    "    QueryString=\"SELECT * FROM county_population\",\n",
    "    QueryExecutionContext={\"Database\":SCHEMA_NAME},\n",
    "    ResultConfiguration={\n",
    "        \"OutputLocation\":S3_STAGING_DIR,\n",
    "        \"EncryptionConfiguration\":{\"EncryptionOption\":\"SSE_S3\"},\n",
    "    }\n",
    ")\n",
    "county_population=download_and_load_query_results(athena_client,response)\n",
    "\n",
    "response=athena_client.start_query_execution(\n",
    "    QueryString=\"SELECT * FROM country_codes\",\n",
    "    QueryExecutionContext={\"Database\":SCHEMA_NAME},\n",
    "    ResultConfiguration={\n",
    "        \"OutputLocation\":S3_STAGING_DIR,\n",
    "        \"EncryptionConfiguration\":{\"EncryptionOption\":\"SSE_S3\"},\n",
    "    }\n",
    ")\n",
    "country_codes=download_and_load_query_results(athena_client,response)\n",
    "\n",
    "response=athena_client.start_query_execution(\n",
    "    QueryString=\"SELECT * FROM us\",\n",
    "    QueryExecutionContext={\"Database\":SCHEMA_NAME},\n",
    "    ResultConfiguration={\n",
    "        \"OutputLocation\":S3_STAGING_DIR,\n",
    "        \"EncryptionConfiguration\":{\"EncryptionOption\":\"SSE_S3\"},\n",
    "    }\n",
    ")\n",
    "us=download_and_load_query_results(athena_client,response)\n",
    "\n",
    "response=athena_client.start_query_execution(\n",
    "    QueryString=\"SELECT * FROM us_county\",\n",
    "    QueryExecutionContext={\"Database\":SCHEMA_NAME},\n",
    "    ResultConfiguration={\n",
    "        \"OutputLocation\":S3_STAGING_DIR,\n",
    "        \"EncryptionConfiguration\":{\"EncryptionOption\":\"SSE_S3\"},\n",
    "    }\n",
    ")\n",
    "us_county=download_and_load_query_results(athena_client,response)\n",
    "\n",
    "response=athena_client.start_query_execution(\n",
    "    QueryString=\"SELECT * FROM us_daily\",\n",
    "    QueryExecutionContext={\"Database\":SCHEMA_NAME},\n",
    "    ResultConfiguration={\n",
    "        \"OutputLocation\":S3_STAGING_DIR,\n",
    "        \"EncryptionConfiguration\":{\"EncryptionOption\":\"SSE_S3\"},\n",
    "    }\n",
    ")\n",
    "us_daily=download_and_load_query_results(athena_client,response)\n",
    "\n",
    "response=athena_client.start_query_execution(\n",
    "    QueryString=\"SELECT * FROM us_states\",\n",
    "    QueryExecutionContext={\"Database\":SCHEMA_NAME},\n",
    "    ResultConfiguration={\n",
    "        \"OutputLocation\":S3_STAGING_DIR,\n",
    "        \"EncryptionConfiguration\":{\"EncryptionOption\":\"SSE_S3\"},\n",
    "    }\n",
    ")\n",
    "us_states=download_and_load_query_results(athena_client,response)\n",
    "\n",
    "response=athena_client.start_query_execution(\n",
    "    QueryString=\"SELECT * FROM us_states_abbr\",\n",
    "    QueryExecutionContext={\"Database\":SCHEMA_NAME},\n",
    "    ResultConfiguration={\n",
    "        \"OutputLocation\":S3_STAGING_DIR,\n",
    "        \"EncryptionConfiguration\":{\"EncryptionOption\":\"SSE_S3\"},\n",
    "    }\n",
    ")\n",
    "us_states_abbr=download_and_load_query_results(athena_client,response)\n",
    "\n",
    "response=athena_client.start_query_execution(\n",
    "    QueryString=\"SELECT * FROM us_states_daily\",\n",
    "    QueryExecutionContext={\"Database\":SCHEMA_NAME},\n",
    "    ResultConfiguration={\n",
    "        \"OutputLocation\":S3_STAGING_DIR,\n",
    "        \"EncryptionConfiguration\":{\"EncryptionOption\":\"SSE_S3\"},\n",
    "    }\n",
    ")\n",
    "us_states_daily=download_and_load_query_results(athena_client,response)\n",
    "\n",
    "response=athena_client.start_query_execution(\n",
    "    QueryString=\"SELECT * FROM usa_hospital_beds\",\n",
    "    QueryExecutionContext={\"Database\":SCHEMA_NAME},\n",
    "    ResultConfiguration={\n",
    "        \"OutputLocation\":S3_STAGING_DIR,\n",
    "        \"EncryptionConfiguration\":{\"EncryptionOption\":\"SSE_S3\"},\n",
    "    }\n",
    ")\n",
    "us_hospital_beds=download_and_load_query_results(athena_client,response)\n"
   ]
  },
  {
   "cell_type": "code",
   "execution_count": 0,
   "metadata": {
    "application/vnd.databricks.v1+cell": {
     "inputWidgets": {},
     "nuid": "7cd0c4c9-7ba9-4346-8c52-605eb57b8325",
     "showTitle": false,
     "title": ""
    }
   },
   "outputs": [],
   "source": [
    "header=us_states_abbr.iloc[0]\n",
    "us_states_abbr=us_states_abbr[1:]\n",
    "us_states_abbr.columns=header"
   ]
  },
  {
   "cell_type": "code",
   "execution_count": 0,
   "metadata": {
    "application/vnd.databricks.v1+cell": {
     "inputWidgets": {},
     "nuid": "90edf771-7699-4a99-b983-fd38821b4847",
     "showTitle": false,
     "title": ""
    }
   },
   "outputs": [
    {
     "data": {
      "text/html": [
       "<div>\n",
       "<style scoped>\n",
       "    .dataframe tbody tr th:only-of-type {\n",
       "        vertical-align: middle;\n",
       "    }\n",
       "\n",
       "    .dataframe tbody tr th {\n",
       "        vertical-align: top;\n",
       "    }\n",
       "\n",
       "    .dataframe thead th {\n",
       "        text-align: right;\n",
       "    }\n",
       "</style>\n",
       "<table border=\"1\" class=\"dataframe\">\n",
       "  <thead>\n",
       "    <tr style=\"text-align: right;\">\n",
       "      <th></th>\n",
       "      <th>State</th>\n",
       "      <th>Abbreviation</th>\n",
       "    </tr>\n",
       "  </thead>\n",
       "  <tbody>\n",
       "    <tr>\n",
       "      <th>1</th>\n",
       "      <td>Alabama</td>\n",
       "      <td>AL</td>\n",
       "    </tr>\n",
       "    <tr>\n",
       "      <th>2</th>\n",
       "      <td>Alaska</td>\n",
       "      <td>AK</td>\n",
       "    </tr>\n",
       "    <tr>\n",
       "      <th>3</th>\n",
       "      <td>Arizona</td>\n",
       "      <td>AZ</td>\n",
       "    </tr>\n",
       "    <tr>\n",
       "      <th>4</th>\n",
       "      <td>Arkansas</td>\n",
       "      <td>AR</td>\n",
       "    </tr>\n",
       "    <tr>\n",
       "      <th>5</th>\n",
       "      <td>California</td>\n",
       "      <td>CA</td>\n",
       "    </tr>\n",
       "  </tbody>\n",
       "</table>\n",
       "</div>"
      ]
     },
     "metadata": {
      "application/vnd.databricks.v1+output": {
       "addedWidgets": {},
       "arguments": {},
       "data": "<div>\n<style scoped>\n    .dataframe tbody tr th:only-of-type {\n        vertical-align: middle;\n    }\n\n    .dataframe tbody tr th {\n        vertical-align: top;\n    }\n\n    .dataframe thead th {\n        text-align: right;\n    }\n</style>\n<table border=\"1\" class=\"dataframe\">\n  <thead>\n    <tr style=\"text-align: right;\">\n      <th></th>\n      <th>State</th>\n      <th>Abbreviation</th>\n    </tr>\n  </thead>\n  <tbody>\n    <tr>\n      <th>1</th>\n      <td>Alabama</td>\n      <td>AL</td>\n    </tr>\n    <tr>\n      <th>2</th>\n      <td>Alaska</td>\n      <td>AK</td>\n    </tr>\n    <tr>\n      <th>3</th>\n      <td>Arizona</td>\n      <td>AZ</td>\n    </tr>\n    <tr>\n      <th>4</th>\n      <td>Arkansas</td>\n      <td>AR</td>\n    </tr>\n    <tr>\n      <th>5</th>\n      <td>California</td>\n      <td>CA</td>\n    </tr>\n  </tbody>\n</table>\n</div>",
       "datasetInfos": [],
       "metadata": {},
       "removedWidgets": [],
       "textData": null,
       "type": "htmlSandbox"
      }
     },
     "output_type": "display_data"
    }
   ],
   "source": [
    "us_states_abbr.head()"
   ]
  },
  {
   "cell_type": "code",
   "execution_count": 0,
   "metadata": {
    "application/vnd.databricks.v1+cell": {
     "inputWidgets": {},
     "nuid": "417ef925-2b60-4e17-9d04-a5938940966c",
     "showTitle": false,
     "title": ""
    }
   },
   "outputs": [
    {
     "data": {
      "text/plain": [
       "Out[30]: Index(['fips', 'admin2', 'province_state', 'country_region', 'last_update',\n",
       "       'latitude', 'longitude', 'confirmed', 'deaths', 'recovered', 'active',\n",
       "       'combined_key'],\n",
       "      dtype='object')"
      ]
     },
     "metadata": {
      "application/vnd.databricks.v1+output": {
       "addedWidgets": {},
       "arguments": {},
       "data": "Out[30]: Index(['fips', 'admin2', 'province_state', 'country_region', 'last_update',\n       'latitude', 'longitude', 'confirmed', 'deaths', 'recovered', 'active',\n       'combined_key'],\n      dtype='object')",
       "datasetInfos": [],
       "metadata": {},
       "removedWidgets": [],
       "type": "ansi"
      }
     },
     "output_type": "display_data"
    }
   ],
   "source": [
    "engima_jhu.columns"
   ]
  },
  {
   "cell_type": "code",
   "execution_count": 0,
   "metadata": {
    "application/vnd.databricks.v1+cell": {
     "inputWidgets": {},
     "nuid": "a9ed1107-f01d-40d4-8ce9-9b956de65016",
     "showTitle": false,
     "title": ""
    }
   },
   "outputs": [
    {
     "data": {
      "text/plain": [
       "Out[31]: Index(['date', 'state', 'positive', 'probablecases', 'negative', 'pending',\n",
       "       'totaltestresultssource', 'totaltestresults', 'hospitalizedcurrently',\n",
       "       'hospitalizedcumulative', 'inicucurrently', 'inicucumulative',\n",
       "       'onventilatorcurrently', 'onventilatorcumulative', 'recovered',\n",
       "       'lastupdateet', 'datemodified', 'checktimeet', 'death', 'hospitalized',\n",
       "       'hospitalizeddischarged', 'datechecked', 'totaltestsviral',\n",
       "       'positivetestsviral', 'negativetestsviral', 'positivecasesviral',\n",
       "       'deathconfirmed', 'deathprobable', 'totaltestencountersviral',\n",
       "       'totaltestspeopleviral', 'totaltestsantibody', 'positivetestsantibody',\n",
       "       'negativetestsantibody', 'totaltestspeopleantibody',\n",
       "       'positivetestspeopleantibody', 'negativetestspeopleantibody',\n",
       "       'totaltestspeopleantigen', 'positivetestspeopleantigen',\n",
       "       'totaltestsantigen', 'positivetestsantigen', 'fips', 'positiveincrease',\n",
       "       'negativeincrease', 'total', 'totaltestresultsincrease', 'posneg',\n",
       "       'dataqualitygrade', 'deathincrease', 'hospitalizedincrease', 'hash',\n",
       "       'commercialscore', 'negativeregularscore', 'negativescore',\n",
       "       'positivescore', 'score', 'grade'],\n",
       "      dtype='object')"
      ]
     },
     "metadata": {
      "application/vnd.databricks.v1+output": {
       "addedWidgets": {},
       "arguments": {},
       "data": "Out[31]: Index(['date', 'state', 'positive', 'probablecases', 'negative', 'pending',\n       'totaltestresultssource', 'totaltestresults', 'hospitalizedcurrently',\n       'hospitalizedcumulative', 'inicucurrently', 'inicucumulative',\n       'onventilatorcurrently', 'onventilatorcumulative', 'recovered',\n       'lastupdateet', 'datemodified', 'checktimeet', 'death', 'hospitalized',\n       'hospitalizeddischarged', 'datechecked', 'totaltestsviral',\n       'positivetestsviral', 'negativetestsviral', 'positivecasesviral',\n       'deathconfirmed', 'deathprobable', 'totaltestencountersviral',\n       'totaltestspeopleviral', 'totaltestsantibody', 'positivetestsantibody',\n       'negativetestsantibody', 'totaltestspeopleantibody',\n       'positivetestspeopleantibody', 'negativetestspeopleantibody',\n       'totaltestspeopleantigen', 'positivetestspeopleantigen',\n       'totaltestsantigen', 'positivetestsantigen', 'fips', 'positiveincrease',\n       'negativeincrease', 'total', 'totaltestresultsincrease', 'posneg',\n       'dataqualitygrade', 'deathincrease', 'hospitalizedincrease', 'hash',\n       'commercialscore', 'negativeregularscore', 'negativescore',\n       'positivescore', 'score', 'grade'],\n      dtype='object')",
       "datasetInfos": [],
       "metadata": {},
       "removedWidgets": [],
       "type": "ansi"
      }
     },
     "output_type": "display_data"
    }
   ],
   "source": [
    "us_states_daily.columns"
   ]
  },
  {
   "cell_type": "code",
   "execution_count": 0,
   "metadata": {
    "application/vnd.databricks.v1+cell": {
     "inputWidgets": {},
     "nuid": "1557fe1a-c60b-4700-9e24-92c5b0921160",
     "showTitle": false,
     "title": ""
    }
   },
   "outputs": [],
   "source": [
    "factcovid1=engima_jhu[['fips','province_state','country_region','confirmed','deaths','recovered','active']]\n",
    "factcovid2=us_states_daily[['fips','date','positive','negative','hospitalized','hospitalizeddischarged']]\n",
    "factcovid=pd.merge(factcovid1,factcovid2,on='fips',how='inner')"
   ]
  },
  {
   "cell_type": "code",
   "execution_count": 0,
   "metadata": {
    "application/vnd.databricks.v1+cell": {
     "inputWidgets": {},
     "nuid": "54f38d07-3816-44a4-a305-a4d7e4f8bb50",
     "showTitle": false,
     "title": ""
    }
   },
   "outputs": [],
   "source": [
    "dimRegion1=engima_jhu[['fips','province_state','country_region','latitude', 'longitude']]\n",
    "dimRegion2=us_county[['fips','county','state']]\n",
    "dimRegion=pd.merge(dimRegion1,dimRegion2,on='fips',how='inner')"
   ]
  },
  {
   "cell_type": "code",
   "execution_count": 0,
   "metadata": {
    "application/vnd.databricks.v1+cell": {
     "inputWidgets": {},
     "nuid": "7f957c15-5576-4349-a1b5-a8787e37bf42",
     "showTitle": false,
     "title": ""
    }
   },
   "outputs": [],
   "source": [
    "dimDate=us_states_daily[['fips','date']]"
   ]
  },
  {
   "cell_type": "code",
   "execution_count": 0,
   "metadata": {
    "application/vnd.databricks.v1+cell": {
     "inputWidgets": {},
     "nuid": "cc304333-f0ce-4992-8656-4689b5ffa1eb",
     "showTitle": false,
     "title": ""
    }
   },
   "outputs": [
    {
     "data": {
      "text/plain": [
       "<command-1384182662258695>:1: SettingWithCopyWarning: \n",
       "A value is trying to be set on a copy of a slice from a DataFrame.\n",
       "Try using .loc[row_indexer,col_indexer] = value instead\n",
       "\n",
       "See the caveats in the documentation: https://pandas.pydata.org/pandas-docs/stable/user_guide/indexing.html#returning-a-view-versus-a-copy\n",
       "  dimDate['date']=pd.to_datetime(dimDate['date'],format='%Y%m%d')\n"
      ]
     },
     "metadata": {
      "application/vnd.databricks.v1+output": {
       "addedWidgets": {},
       "arguments": {},
       "data": "<command-1384182662258695>:1: SettingWithCopyWarning: \nA value is trying to be set on a copy of a slice from a DataFrame.\nTry using .loc[row_indexer,col_indexer] = value instead\n\nSee the caveats in the documentation: https://pandas.pydata.org/pandas-docs/stable/user_guide/indexing.html#returning-a-view-versus-a-copy\n  dimDate['date']=pd.to_datetime(dimDate['date'],format='%Y%m%d')\n",
       "datasetInfos": [],
       "metadata": {},
       "removedWidgets": [],
       "type": "ansi"
      }
     },
     "output_type": "display_data"
    }
   ],
   "source": [
    "dimDate['date']=pd.to_datetime(dimDate['date'],format='%Y%m%d')"
   ]
  },
  {
   "cell_type": "code",
   "execution_count": 0,
   "metadata": {
    "application/vnd.databricks.v1+cell": {
     "inputWidgets": {},
     "nuid": "2b26b3ca-d360-4b27-8386-794fadf7a179",
     "showTitle": false,
     "title": ""
    }
   },
   "outputs": [
    {
     "data": {
      "text/plain": [
       "<command-1384182662258696>:1: SettingWithCopyWarning: \n",
       "A value is trying to be set on a copy of a slice from a DataFrame.\n",
       "Try using .loc[row_indexer,col_indexer] = value instead\n",
       "\n",
       "See the caveats in the documentation: https://pandas.pydata.org/pandas-docs/stable/user_guide/indexing.html#returning-a-view-versus-a-copy\n",
       "  dimDate['Year']=dimDate['date'].dt.year\n",
       "<command-1384182662258696>:2: SettingWithCopyWarning: \n",
       "A value is trying to be set on a copy of a slice from a DataFrame.\n",
       "Try using .loc[row_indexer,col_indexer] = value instead\n",
       "\n",
       "See the caveats in the documentation: https://pandas.pydata.org/pandas-docs/stable/user_guide/indexing.html#returning-a-view-versus-a-copy\n",
       "  dimDate['Month']=dimDate['date'].dt.month\n",
       "<command-1384182662258696>:3: SettingWithCopyWarning: \n",
       "A value is trying to be set on a copy of a slice from a DataFrame.\n",
       "Try using .loc[row_indexer,col_indexer] = value instead\n",
       "\n",
       "See the caveats in the documentation: https://pandas.pydata.org/pandas-docs/stable/user_guide/indexing.html#returning-a-view-versus-a-copy\n",
       "  dimDate['Day']=dimDate['date'].dt.dayofweek\n"
      ]
     },
     "metadata": {
      "application/vnd.databricks.v1+output": {
       "addedWidgets": {},
       "arguments": {},
       "data": "<command-1384182662258696>:1: SettingWithCopyWarning: \nA value is trying to be set on a copy of a slice from a DataFrame.\nTry using .loc[row_indexer,col_indexer] = value instead\n\nSee the caveats in the documentation: https://pandas.pydata.org/pandas-docs/stable/user_guide/indexing.html#returning-a-view-versus-a-copy\n  dimDate['Year']=dimDate['date'].dt.year\n<command-1384182662258696>:2: SettingWithCopyWarning: \nA value is trying to be set on a copy of a slice from a DataFrame.\nTry using .loc[row_indexer,col_indexer] = value instead\n\nSee the caveats in the documentation: https://pandas.pydata.org/pandas-docs/stable/user_guide/indexing.html#returning-a-view-versus-a-copy\n  dimDate['Month']=dimDate['date'].dt.month\n<command-1384182662258696>:3: SettingWithCopyWarning: \nA value is trying to be set on a copy of a slice from a DataFrame.\nTry using .loc[row_indexer,col_indexer] = value instead\n\nSee the caveats in the documentation: https://pandas.pydata.org/pandas-docs/stable/user_guide/indexing.html#returning-a-view-versus-a-copy\n  dimDate['Day']=dimDate['date'].dt.dayofweek\n",
       "datasetInfos": [],
       "metadata": {},
       "removedWidgets": [],
       "type": "ansi"
      }
     },
     "output_type": "display_data"
    }
   ],
   "source": [
    "dimDate['Year']=dimDate['date'].dt.year\n",
    "dimDate['Month']=dimDate['date'].dt.month\n",
    "dimDate['Day']=dimDate['date'].dt.dayofweek"
   ]
  },
  {
   "cell_type": "code",
   "execution_count": 0,
   "metadata": {
    "application/vnd.databricks.v1+cell": {
     "inputWidgets": {},
     "nuid": "215759f8-f730-495e-8327-abfecf0d0f87",
     "showTitle": false,
     "title": ""
    }
   },
   "outputs": [
    {
     "data": {
      "text/plain": [
       "Out[44]: Index(['objectid', 'hospital_name', 'hospital_type', 'hq_address',\n",
       "       'hq_address1', 'hq_city', 'hq_state', 'hq_zip_code', 'county_name',\n",
       "       'state_name', 'state_fips', 'cnty_fips', 'fips', 'num_licensed_beds',\n",
       "       'num_staffed_beds', 'num_icu_beds', 'adult_icu_beds', 'pedi_icu_beds',\n",
       "       'bed_utilization', 'avg_ventilator_usage',\n",
       "       'potential_increase_in_bed_capac', 'latitude', 'longtitude'],\n",
       "      dtype='object')"
      ]
     },
     "metadata": {
      "application/vnd.databricks.v1+output": {
       "addedWidgets": {},
       "arguments": {},
       "data": "Out[44]: Index(['objectid', 'hospital_name', 'hospital_type', 'hq_address',\n       'hq_address1', 'hq_city', 'hq_state', 'hq_zip_code', 'county_name',\n       'state_name', 'state_fips', 'cnty_fips', 'fips', 'num_licensed_beds',\n       'num_staffed_beds', 'num_icu_beds', 'adult_icu_beds', 'pedi_icu_beds',\n       'bed_utilization', 'avg_ventilator_usage',\n       'potential_increase_in_bed_capac', 'latitude', 'longtitude'],\n      dtype='object')",
       "datasetInfos": [],
       "metadata": {},
       "removedWidgets": [],
       "type": "ansi"
      }
     },
     "output_type": "display_data"
    }
   ],
   "source": [
    "us_hospital_beds.columns"
   ]
  },
  {
   "cell_type": "code",
   "execution_count": 0,
   "metadata": {
    "application/vnd.databricks.v1+cell": {
     "inputWidgets": {},
     "nuid": "04e83ab8-9737-448c-b23f-8d4a52e3bbce",
     "showTitle": false,
     "title": ""
    }
   },
   "outputs": [],
   "source": [
    "dimHospital=us_hospital_beds[['fips','state_name','latitude','longtitude','hq_address','hospital_type','hospital_name','hq_city', 'hq_state',]]"
   ]
  },
  {
   "cell_type": "code",
   "execution_count": 0,
   "metadata": {
    "application/vnd.databricks.v1+cell": {
     "inputWidgets": {},
     "nuid": "7289e9b6-4a12-45a5-87d0-88e95c9cdaf5",
     "showTitle": false,
     "title": ""
    }
   },
   "outputs": [
    {
     "data": {
      "text/plain": [
       "Out[34]: {'ResponseMetadata': {'RequestId': '2EM7E6JH10TDNQ3E',\n",
       "  'HostId': 'x3vRNiCje+/q1/BvtJhymKPqkleCs0wSOzB5iSjKURLDtmh649T4WS4VmxJLW/1mhLbgccIko5g=',\n",
       "  'HTTPStatusCode': 200,\n",
       "  'HTTPHeaders': {'x-amz-id-2': 'x3vRNiCje+/q1/BvtJhymKPqkleCs0wSOzB5iSjKURLDtmh649T4WS4VmxJLW/1mhLbgccIko5g=',\n",
       "   'x-amz-request-id': '2EM7E6JH10TDNQ3E',\n",
       "   'date': 'Sat, 04 Jun 2022 13:46:12 GMT',\n",
       "   'x-amz-version-id': 'vYLtGVCwO2p.wYGobTgTLcM_t.5jRB_N',\n",
       "   'etag': '\"0957fce49ee019db435496b01bb8a97c\"',\n",
       "   'server': 'AmazonS3',\n",
       "   'content-length': '0'},\n",
       "  'RetryAttempts': 0},\n",
       " 'ETag': '\"0957fce49ee019db435496b01bb8a97c\"',\n",
       " 'VersionId': 'vYLtGVCwO2p.wYGobTgTLcM_t.5jRB_N'}"
      ]
     },
     "metadata": {
      "application/vnd.databricks.v1+output": {
       "addedWidgets": {},
       "arguments": {},
       "data": "Out[34]: {'ResponseMetadata': {'RequestId': '2EM7E6JH10TDNQ3E',\n  'HostId': 'x3vRNiCje+/q1/BvtJhymKPqkleCs0wSOzB5iSjKURLDtmh649T4WS4VmxJLW/1mhLbgccIko5g=',\n  'HTTPStatusCode': 200,\n  'HTTPHeaders': {'x-amz-id-2': 'x3vRNiCje+/q1/BvtJhymKPqkleCs0wSOzB5iSjKURLDtmh649T4WS4VmxJLW/1mhLbgccIko5g=',\n   'x-amz-request-id': '2EM7E6JH10TDNQ3E',\n   'date': 'Sat, 04 Jun 2022 13:46:12 GMT',\n   'x-amz-version-id': 'vYLtGVCwO2p.wYGobTgTLcM_t.5jRB_N',\n   'etag': '\"0957fce49ee019db435496b01bb8a97c\"',\n   'server': 'AmazonS3',\n   'content-length': '0'},\n  'RetryAttempts': 0},\n 'ETag': '\"0957fce49ee019db435496b01bb8a97c\"',\n 'VersionId': 'vYLtGVCwO2p.wYGobTgTLcM_t.5jRB_N'}",
       "datasetInfos": [],
       "metadata": {},
       "removedWidgets": [],
       "type": "ansi"
      }
     },
     "output_type": "display_data"
    }
   ],
   "source": [
    "bucket='covid-19-data-ruthvik'\n",
    "csv_buffer=StringIO()\n",
    "factcovid.to_csv(csv_buffer)\n",
    "s3_resource=boto3.resource('s3',\n",
    "        aws_access_key_id= AWS_ACCESS_KEY,\n",
    "        aws_secret_access_key=AWS_SECRET_KEY,\n",
    "        region_name=AWS_REGION\n",
    "    )\n",
    "s3_resource.Object(bucket,'output/factcovid.csv').put(Body=csv_buffer.getvalue())"
   ]
  },
  {
   "cell_type": "code",
   "execution_count": 0,
   "metadata": {
    "application/vnd.databricks.v1+cell": {
     "inputWidgets": {},
     "nuid": "6bafabe9-e53e-41e2-91df-7e17b3f74165",
     "showTitle": false,
     "title": ""
    }
   },
   "outputs": [
    {
     "data": {
      "text/plain": [
       "Out[39]: {'ResponseMetadata': {'RequestId': '9Q15K28VPCP541Q6',\n",
       "  'HostId': 'fBrmJOwlCwXtdhw5jJbyKezdsSfk1o57HSMO2RLotvJrF2AzczIBxWjWQDjCCPuF2s+Lfy2nuN4=',\n",
       "  'HTTPStatusCode': 200,\n",
       "  'HTTPHeaders': {'x-amz-id-2': 'fBrmJOwlCwXtdhw5jJbyKezdsSfk1o57HSMO2RLotvJrF2AzczIBxWjWQDjCCPuF2s+Lfy2nuN4=',\n",
       "   'x-amz-request-id': '9Q15K28VPCP541Q6',\n",
       "   'date': 'Sat, 04 Jun 2022 13:52:40 GMT',\n",
       "   'x-amz-version-id': 'p0fVAJvcPvyc4taxTkfIAI4A5OOUvryf',\n",
       "   'etag': '\"b862b97dd5eb562a623fb435614577da\"',\n",
       "   'server': 'AmazonS3',\n",
       "   'content-length': '0'},\n",
       "  'RetryAttempts': 0},\n",
       " 'ETag': '\"b862b97dd5eb562a623fb435614577da\"',\n",
       " 'VersionId': 'p0fVAJvcPvyc4taxTkfIAI4A5OOUvryf'}"
      ]
     },
     "metadata": {
      "application/vnd.databricks.v1+output": {
       "addedWidgets": {},
       "arguments": {},
       "data": "Out[39]: {'ResponseMetadata': {'RequestId': '9Q15K28VPCP541Q6',\n  'HostId': 'fBrmJOwlCwXtdhw5jJbyKezdsSfk1o57HSMO2RLotvJrF2AzczIBxWjWQDjCCPuF2s+Lfy2nuN4=',\n  'HTTPStatusCode': 200,\n  'HTTPHeaders': {'x-amz-id-2': 'fBrmJOwlCwXtdhw5jJbyKezdsSfk1o57HSMO2RLotvJrF2AzczIBxWjWQDjCCPuF2s+Lfy2nuN4=',\n   'x-amz-request-id': '9Q15K28VPCP541Q6',\n   'date': 'Sat, 04 Jun 2022 13:52:40 GMT',\n   'x-amz-version-id': 'p0fVAJvcPvyc4taxTkfIAI4A5OOUvryf',\n   'etag': '\"b862b97dd5eb562a623fb435614577da\"',\n   'server': 'AmazonS3',\n   'content-length': '0'},\n  'RetryAttempts': 0},\n 'ETag': '\"b862b97dd5eb562a623fb435614577da\"',\n 'VersionId': 'p0fVAJvcPvyc4taxTkfIAI4A5OOUvryf'}",
       "datasetInfos": [],
       "metadata": {},
       "removedWidgets": [],
       "type": "ansi"
      }
     },
     "output_type": "display_data"
    }
   ],
   "source": [
    "bucket='covid-19-data-ruthvik'\n",
    "csv_buffer=StringIO()\n",
    "dimRegion.to_csv(csv_buffer)\n",
    "s3_resource=boto3.resource('s3',\n",
    "        aws_access_key_id= AWS_ACCESS_KEY,\n",
    "        aws_secret_access_key=AWS_SECRET_KEY,\n",
    "        region_name=AWS_REGION\n",
    "    )\n",
    "s3_resource.Object(bucket,'output/dimRegion.csv').put(Body=csv_buffer.getvalue())"
   ]
  },
  {
   "cell_type": "code",
   "execution_count": 0,
   "metadata": {
    "application/vnd.databricks.v1+cell": {
     "inputWidgets": {},
     "nuid": "79e362c9-6180-4d5f-8677-5e91ba2c5881",
     "showTitle": false,
     "title": ""
    }
   },
   "outputs": [
    {
     "data": {
      "text/plain": [
       "Out[36]: {'ResponseMetadata': {'RequestId': '7AABHFHDRCQHHQ9K',\n",
       "  'HostId': 'wPRaVnZ+Qya2ObQ+PwgscQR3DJIwYxUFWpwRWMamdCMY9E5WVV4K93zLsIHrauKSkIMBRV15RmHRhBXioDA0vA==',\n",
       "  'HTTPStatusCode': 200,\n",
       "  'HTTPHeaders': {'x-amz-id-2': 'wPRaVnZ+Qya2ObQ+PwgscQR3DJIwYxUFWpwRWMamdCMY9E5WVV4K93zLsIHrauKSkIMBRV15RmHRhBXioDA0vA==',\n",
       "   'x-amz-request-id': '7AABHFHDRCQHHQ9K',\n",
       "   'date': 'Sat, 04 Jun 2022 13:47:49 GMT',\n",
       "   'x-amz-version-id': 'jroI.bQhHm6.rsqh_LCf4zGVvYorByXJ',\n",
       "   'etag': '\"dbda3d14968bb070f9362366103ee958\"',\n",
       "   'server': 'AmazonS3',\n",
       "   'content-length': '0'},\n",
       "  'RetryAttempts': 0},\n",
       " 'ETag': '\"dbda3d14968bb070f9362366103ee958\"',\n",
       " 'VersionId': 'jroI.bQhHm6.rsqh_LCf4zGVvYorByXJ'}"
      ]
     },
     "metadata": {
      "application/vnd.databricks.v1+output": {
       "addedWidgets": {},
       "arguments": {},
       "data": "Out[36]: {'ResponseMetadata': {'RequestId': '7AABHFHDRCQHHQ9K',\n  'HostId': 'wPRaVnZ+Qya2ObQ+PwgscQR3DJIwYxUFWpwRWMamdCMY9E5WVV4K93zLsIHrauKSkIMBRV15RmHRhBXioDA0vA==',\n  'HTTPStatusCode': 200,\n  'HTTPHeaders': {'x-amz-id-2': 'wPRaVnZ+Qya2ObQ+PwgscQR3DJIwYxUFWpwRWMamdCMY9E5WVV4K93zLsIHrauKSkIMBRV15RmHRhBXioDA0vA==',\n   'x-amz-request-id': '7AABHFHDRCQHHQ9K',\n   'date': 'Sat, 04 Jun 2022 13:47:49 GMT',\n   'x-amz-version-id': 'jroI.bQhHm6.rsqh_LCf4zGVvYorByXJ',\n   'etag': '\"dbda3d14968bb070f9362366103ee958\"',\n   'server': 'AmazonS3',\n   'content-length': '0'},\n  'RetryAttempts': 0},\n 'ETag': '\"dbda3d14968bb070f9362366103ee958\"',\n 'VersionId': 'jroI.bQhHm6.rsqh_LCf4zGVvYorByXJ'}",
       "datasetInfos": [],
       "metadata": {},
       "removedWidgets": [],
       "type": "ansi"
      }
     },
     "output_type": "display_data"
    }
   ],
   "source": [
    "bucket='covid-19-data-ruthvik'\n",
    "csv_buffer=StringIO()\n",
    "dimDate.to_csv(csv_buffer)\n",
    "s3_resource=boto3.resource('s3',\n",
    "        aws_access_key_id= AWS_ACCESS_KEY,\n",
    "        aws_secret_access_key=AWS_SECRET_KEY,\n",
    "        region_name=AWS_REGION\n",
    "    )\n",
    "s3_resource.Object(bucket,'output/dimDate.csv').put(Body=csv_buffer.getvalue())"
   ]
  },
  {
   "cell_type": "code",
   "execution_count": 0,
   "metadata": {
    "application/vnd.databricks.v1+cell": {
     "inputWidgets": {},
     "nuid": "8c222cdc-b6f9-4b7c-aa10-74d4cdf8d513",
     "showTitle": false,
     "title": ""
    }
   },
   "outputs": [
    {
     "data": {
      "text/plain": [
       "Out[38]: {'ResponseMetadata': {'RequestId': '9HYXN15WXVSJGNPP',\n",
       "  'HostId': 'QdOEEoW21gqvfnmwvHkbMBDS8925REQrTIrUaY48fqoPW1OK8hjjvu/GyZ3ksjFCrQ5Pa9PqmKo=',\n",
       "  'HTTPStatusCode': 200,\n",
       "  'HTTPHeaders': {'x-amz-id-2': 'QdOEEoW21gqvfnmwvHkbMBDS8925REQrTIrUaY48fqoPW1OK8hjjvu/GyZ3ksjFCrQ5Pa9PqmKo=',\n",
       "   'x-amz-request-id': '9HYXN15WXVSJGNPP',\n",
       "   'date': 'Sat, 04 Jun 2022 13:47:59 GMT',\n",
       "   'x-amz-version-id': '0yZpoBUR7oABN1OpDLaqHfwa4NPj_rNm',\n",
       "   'etag': '\"8e0edcb52b3d691ff0864e4b2e6d35aa\"',\n",
       "   'server': 'AmazonS3',\n",
       "   'content-length': '0'},\n",
       "  'RetryAttempts': 0},\n",
       " 'ETag': '\"8e0edcb52b3d691ff0864e4b2e6d35aa\"',\n",
       " 'VersionId': '0yZpoBUR7oABN1OpDLaqHfwa4NPj_rNm'}"
      ]
     },
     "metadata": {
      "application/vnd.databricks.v1+output": {
       "addedWidgets": {},
       "arguments": {},
       "data": "Out[38]: {'ResponseMetadata': {'RequestId': '9HYXN15WXVSJGNPP',\n  'HostId': 'QdOEEoW21gqvfnmwvHkbMBDS8925REQrTIrUaY48fqoPW1OK8hjjvu/GyZ3ksjFCrQ5Pa9PqmKo=',\n  'HTTPStatusCode': 200,\n  'HTTPHeaders': {'x-amz-id-2': 'QdOEEoW21gqvfnmwvHkbMBDS8925REQrTIrUaY48fqoPW1OK8hjjvu/GyZ3ksjFCrQ5Pa9PqmKo=',\n   'x-amz-request-id': '9HYXN15WXVSJGNPP',\n   'date': 'Sat, 04 Jun 2022 13:47:59 GMT',\n   'x-amz-version-id': '0yZpoBUR7oABN1OpDLaqHfwa4NPj_rNm',\n   'etag': '\"8e0edcb52b3d691ff0864e4b2e6d35aa\"',\n   'server': 'AmazonS3',\n   'content-length': '0'},\n  'RetryAttempts': 0},\n 'ETag': '\"8e0edcb52b3d691ff0864e4b2e6d35aa\"',\n 'VersionId': '0yZpoBUR7oABN1OpDLaqHfwa4NPj_rNm'}",
       "datasetInfos": [],
       "metadata": {},
       "removedWidgets": [],
       "type": "ansi"
      }
     },
     "output_type": "display_data"
    }
   ],
   "source": [
    "bucket='covid-19-data-ruthvik'\n",
    "csv_buffer=StringIO()\n",
    "dimHospital.to_csv(csv_buffer)\n",
    "s3_resource=boto3.resource('s3',\n",
    "        aws_access_key_id= AWS_ACCESS_KEY,\n",
    "        aws_secret_access_key=AWS_SECRET_KEY,\n",
    "        region_name=AWS_REGION\n",
    "    )\n",
    "s3_resource.Object(bucket,'output/dimHospital.csv').put(Body=csv_buffer.getvalue())"
   ]
  },
  {
   "cell_type": "code",
   "execution_count": 0,
   "metadata": {
    "application/vnd.databricks.v1+cell": {
     "inputWidgets": {},
     "nuid": "4d8cff91-479c-4718-9dac-c0f3d3e34b73",
     "showTitle": false,
     "title": ""
    }
   },
   "outputs": [
    {
     "data": {
      "text/html": [
       "<div>\n",
       "<style scoped>\n",
       "    .dataframe tbody tr th:only-of-type {\n",
       "        vertical-align: middle;\n",
       "    }\n",
       "\n",
       "    .dataframe tbody tr th {\n",
       "        vertical-align: top;\n",
       "    }\n",
       "\n",
       "    .dataframe thead th {\n",
       "        text-align: right;\n",
       "    }\n",
       "</style>\n",
       "<table border=\"1\" class=\"dataframe\">\n",
       "  <thead>\n",
       "    <tr style=\"text-align: right;\">\n",
       "      <th></th>\n",
       "      <th>fips</th>\n",
       "      <th>date</th>\n",
       "      <th>Year</th>\n",
       "      <th>Month</th>\n",
       "      <th>Day</th>\n",
       "    </tr>\n",
       "  </thead>\n",
       "  <tbody>\n",
       "    <tr>\n",
       "      <th>0</th>\n",
       "      <td>2</td>\n",
       "      <td>2021-03-07</td>\n",
       "      <td>2021</td>\n",
       "      <td>3</td>\n",
       "      <td>6</td>\n",
       "    </tr>\n",
       "    <tr>\n",
       "      <th>1</th>\n",
       "      <td>1</td>\n",
       "      <td>2021-03-07</td>\n",
       "      <td>2021</td>\n",
       "      <td>3</td>\n",
       "      <td>6</td>\n",
       "    </tr>\n",
       "    <tr>\n",
       "      <th>2</th>\n",
       "      <td>5</td>\n",
       "      <td>2021-03-07</td>\n",
       "      <td>2021</td>\n",
       "      <td>3</td>\n",
       "      <td>6</td>\n",
       "    </tr>\n",
       "    <tr>\n",
       "      <th>3</th>\n",
       "      <td>60</td>\n",
       "      <td>2021-03-07</td>\n",
       "      <td>2021</td>\n",
       "      <td>3</td>\n",
       "      <td>6</td>\n",
       "    </tr>\n",
       "    <tr>\n",
       "      <th>4</th>\n",
       "      <td>4</td>\n",
       "      <td>2021-03-07</td>\n",
       "      <td>2021</td>\n",
       "      <td>3</td>\n",
       "      <td>6</td>\n",
       "    </tr>\n",
       "    <tr>\n",
       "      <th>...</th>\n",
       "      <td>...</td>\n",
       "      <td>...</td>\n",
       "      <td>...</td>\n",
       "      <td>...</td>\n",
       "      <td>...</td>\n",
       "    </tr>\n",
       "    <tr>\n",
       "      <th>20775</th>\n",
       "      <td>53</td>\n",
       "      <td>2020-01-17</td>\n",
       "      <td>2020</td>\n",
       "      <td>1</td>\n",
       "      <td>4</td>\n",
       "    </tr>\n",
       "    <tr>\n",
       "      <th>20776</th>\n",
       "      <td>53</td>\n",
       "      <td>2020-01-16</td>\n",
       "      <td>2020</td>\n",
       "      <td>1</td>\n",
       "      <td>3</td>\n",
       "    </tr>\n",
       "    <tr>\n",
       "      <th>20777</th>\n",
       "      <td>53</td>\n",
       "      <td>2020-01-15</td>\n",
       "      <td>2020</td>\n",
       "      <td>1</td>\n",
       "      <td>2</td>\n",
       "    </tr>\n",
       "    <tr>\n",
       "      <th>20778</th>\n",
       "      <td>53</td>\n",
       "      <td>2020-01-14</td>\n",
       "      <td>2020</td>\n",
       "      <td>1</td>\n",
       "      <td>1</td>\n",
       "    </tr>\n",
       "    <tr>\n",
       "      <th>20779</th>\n",
       "      <td>53</td>\n",
       "      <td>2020-01-13</td>\n",
       "      <td>2020</td>\n",
       "      <td>1</td>\n",
       "      <td>0</td>\n",
       "    </tr>\n",
       "  </tbody>\n",
       "</table>\n",
       "<p>20780 rows × 5 columns</p>\n",
       "</div>"
      ]
     },
     "metadata": {
      "application/vnd.databricks.v1+output": {
       "addedWidgets": {},
       "arguments": {},
       "data": "<div>\n<style scoped>\n    .dataframe tbody tr th:only-of-type {\n        vertical-align: middle;\n    }\n\n    .dataframe tbody tr th {\n        vertical-align: top;\n    }\n\n    .dataframe thead th {\n        text-align: right;\n    }\n</style>\n<table border=\"1\" class=\"dataframe\">\n  <thead>\n    <tr style=\"text-align: right;\">\n      <th></th>\n      <th>fips</th>\n      <th>date</th>\n      <th>Year</th>\n      <th>Month</th>\n      <th>Day</th>\n    </tr>\n  </thead>\n  <tbody>\n    <tr>\n      <th>0</th>\n      <td>2</td>\n      <td>2021-03-07</td>\n      <td>2021</td>\n      <td>3</td>\n      <td>6</td>\n    </tr>\n    <tr>\n      <th>1</th>\n      <td>1</td>\n      <td>2021-03-07</td>\n      <td>2021</td>\n      <td>3</td>\n      <td>6</td>\n    </tr>\n    <tr>\n      <th>2</th>\n      <td>5</td>\n      <td>2021-03-07</td>\n      <td>2021</td>\n      <td>3</td>\n      <td>6</td>\n    </tr>\n    <tr>\n      <th>3</th>\n      <td>60</td>\n      <td>2021-03-07</td>\n      <td>2021</td>\n      <td>3</td>\n      <td>6</td>\n    </tr>\n    <tr>\n      <th>4</th>\n      <td>4</td>\n      <td>2021-03-07</td>\n      <td>2021</td>\n      <td>3</td>\n      <td>6</td>\n    </tr>\n    <tr>\n      <th>...</th>\n      <td>...</td>\n      <td>...</td>\n      <td>...</td>\n      <td>...</td>\n      <td>...</td>\n    </tr>\n    <tr>\n      <th>20775</th>\n      <td>53</td>\n      <td>2020-01-17</td>\n      <td>2020</td>\n      <td>1</td>\n      <td>4</td>\n    </tr>\n    <tr>\n      <th>20776</th>\n      <td>53</td>\n      <td>2020-01-16</td>\n      <td>2020</td>\n      <td>1</td>\n      <td>3</td>\n    </tr>\n    <tr>\n      <th>20777</th>\n      <td>53</td>\n      <td>2020-01-15</td>\n      <td>2020</td>\n      <td>1</td>\n      <td>2</td>\n    </tr>\n    <tr>\n      <th>20778</th>\n      <td>53</td>\n      <td>2020-01-14</td>\n      <td>2020</td>\n      <td>1</td>\n      <td>1</td>\n    </tr>\n    <tr>\n      <th>20779</th>\n      <td>53</td>\n      <td>2020-01-13</td>\n      <td>2020</td>\n      <td>1</td>\n      <td>0</td>\n    </tr>\n  </tbody>\n</table>\n<p>20780 rows × 5 columns</p>\n</div>",
       "datasetInfos": [],
       "metadata": {},
       "removedWidgets": [],
       "textData": null,
       "type": "htmlSandbox"
      }
     },
     "output_type": "display_data"
    }
   ],
   "source": [
    "dimDate"
   ]
  },
  {
   "cell_type": "code",
   "execution_count": 0,
   "metadata": {
    "application/vnd.databricks.v1+cell": {
     "inputWidgets": {},
     "nuid": "ad9c4dd9-34c0-45c0-bcf6-ef9f8e13eaee",
     "showTitle": false,
     "title": ""
    }
   },
   "outputs": [
    {
     "data": {
      "text/plain": [
       "CREATE TABLE \"dimHospital\" (\n",
       "\"index\" INTEGER,\n",
       "  \"fips\" REAL,\n",
       "  \"state_name\" TEXT,\n",
       "  \"latitude\" REAL,\n",
       "  \"longtitude\" REAL,\n",
       "  \"hq_address\" TEXT,\n",
       "  \"hospital_type\" TEXT,\n",
       "  \"hospital_name\" TEXT,\n",
       "  \"hq_city\" TEXT,\n",
       "  \"hq_state\" TEXT\n",
       ")\n",
       "CREATE TABLE \"dimRegion\" (\n",
       "\"index\" INTEGER,\n",
       "  \"fips\" REAL,\n",
       "  \"province_state\" TEXT,\n",
       "  \"country_region\" TEXT,\n",
       "  \"latitude\" REAL,\n",
       "  \"longitude\" REAL,\n",
       "  \"county\" TEXT,\n",
       "  \"state\" TEXT\n",
       ")\n",
       "CREATE TABLE \"dimDate\" (\n",
       "\"index\" INTEGER,\n",
       "  \"fips\" INTEGER,\n",
       "  \"date\" TIMESTAMP,\n",
       "  \"Year\" INTEGER,\n",
       "  \"Month\" INTEGER,\n",
       "  \"Day\" INTEGER\n",
       ")\n",
       "CREATE TABLE \"factcovid\" (\n",
       "\"index\" INTEGER,\n",
       "  \"fips\" REAL,\n",
       "  \"province_state\" TEXT,\n",
       "  \"country_region\" TEXT,\n",
       "  \"confirmed\" REAL,\n",
       "  \"deaths\" REAL,\n",
       "  \"recovered\" REAL,\n",
       "  \"active\" REAL,\n",
       "  \"date\" INTEGER,\n",
       "  \"positive\" REAL,\n",
       "  \"negative\" REAL,\n",
       "  \"hospitalized\" REAL,\n",
       "  \"hospitalizeddischarged\" REAL\n",
       ")\n"
      ]
     },
     "metadata": {
      "application/vnd.databricks.v1+output": {
       "addedWidgets": {},
       "arguments": {},
       "data": "CREATE TABLE \"dimHospital\" (\n\"index\" INTEGER,\n  \"fips\" REAL,\n  \"state_name\" TEXT,\n  \"latitude\" REAL,\n  \"longtitude\" REAL,\n  \"hq_address\" TEXT,\n  \"hospital_type\" TEXT,\n  \"hospital_name\" TEXT,\n  \"hq_city\" TEXT,\n  \"hq_state\" TEXT\n)\nCREATE TABLE \"dimRegion\" (\n\"index\" INTEGER,\n  \"fips\" REAL,\n  \"province_state\" TEXT,\n  \"country_region\" TEXT,\n  \"latitude\" REAL,\n  \"longitude\" REAL,\n  \"county\" TEXT,\n  \"state\" TEXT\n)\nCREATE TABLE \"dimDate\" (\n\"index\" INTEGER,\n  \"fips\" INTEGER,\n  \"date\" TIMESTAMP,\n  \"Year\" INTEGER,\n  \"Month\" INTEGER,\n  \"Day\" INTEGER\n)\nCREATE TABLE \"factcovid\" (\n\"index\" INTEGER,\n  \"fips\" REAL,\n  \"province_state\" TEXT,\n  \"country_region\" TEXT,\n  \"confirmed\" REAL,\n  \"deaths\" REAL,\n  \"recovered\" REAL,\n  \"active\" REAL,\n  \"date\" INTEGER,\n  \"positive\" REAL,\n  \"negative\" REAL,\n  \"hospitalized\" REAL,\n  \"hospitalizeddischarged\" REAL\n)\n",
       "datasetInfos": [],
       "metadata": {},
       "removedWidgets": [],
       "type": "ansi"
      }
     },
     "output_type": "display_data"
    }
   ],
   "source": [
    "dimHospitalsql=pd.io.sql.get_schema(dimHospital.reset_index(),'dimHospital')\n",
    "print(dimHospitalsql)\n",
    "\n",
    "dimRegionsql=pd.io.sql.get_schema(dimRegion.reset_index(),'dimRegion')\n",
    "print(dimRegionsql)\n",
    "\n",
    "dimDatesql=pd.io.sql.get_schema(dimDate.reset_index(),'dimDate')\n",
    "print(dimDatesql)\n",
    "\n",
    "factcovidsql=pd.io.sql.get_schema(factcovid.reset_index(),'factcovid')\n",
    "print(factcovidsql)"
   ]
  },
  {
   "cell_type": "code",
   "execution_count": 0,
   "metadata": {
    "application/vnd.databricks.v1+cell": {
     "inputWidgets": {},
     "nuid": "d56c5a1e-e410-4f7e-81d1-c80baac05da9",
     "showTitle": false,
     "title": ""
    }
   },
   "outputs": [],
   "source": [
    "import redshift_connector"
   ]
  },
  {
   "cell_type": "code",
   "execution_count": 0,
   "metadata": {
    "application/vnd.databricks.v1+cell": {
     "inputWidgets": {},
     "nuid": "2a0485c3-19b1-47d2-80ee-42ec3dda8912",
     "showTitle": false,
     "title": ""
    }
   },
   "outputs": [],
   "source": [
    "conn= redshift_connector.connect(\n",
    "    host=\"redshift-cluster-1.cab4qdhkabx2.us-east-2.redshift.amazonaws.com\",\n",
    "    database=\"dev\",\n",
    "    user=\"awsuser\",\n",
    "    password=\"Password123\"\n",
    ")"
   ]
  },
  {
   "cell_type": "code",
   "execution_count": 0,
   "metadata": {
    "application/vnd.databricks.v1+cell": {
     "inputWidgets": {},
     "nuid": "17b8e20e-e5d5-4ef6-bd00-714ccbf0b9a5",
     "showTitle": false,
     "title": ""
    }
   },
   "outputs": [],
   "source": [
    "conn.autocommit=True"
   ]
  },
  {
   "cell_type": "code",
   "execution_count": 0,
   "metadata": {
    "application/vnd.databricks.v1+cell": {
     "inputWidgets": {},
     "nuid": "f1b09a14-7b53-4ae5-b244-2297cf8b5d4a",
     "showTitle": false,
     "title": ""
    }
   },
   "outputs": [],
   "source": [
    "cursor=redshift_connector.Cursor=conn.cursor()"
   ]
  },
  {
   "cell_type": "code",
   "execution_count": 0,
   "metadata": {
    "application/vnd.databricks.v1+cell": {
     "inputWidgets": {},
     "nuid": "61535d8b-223f-4a99-b875-00f8533f2482",
     "showTitle": false,
     "title": ""
    }
   },
   "outputs": [
    {
     "data": {
      "text/plain": [
       "Out[89]: <redshift_connector.cursor.Cursor at 0x7fae26e22700>"
      ]
     },
     "metadata": {
      "application/vnd.databricks.v1+output": {
       "addedWidgets": {},
       "arguments": {},
       "data": "Out[89]: <redshift_connector.cursor.Cursor at 0x7fae26e22700>",
       "datasetInfos": [],
       "metadata": {},
       "removedWidgets": [],
       "type": "ansi"
      }
     },
     "output_type": "display_data"
    }
   ],
   "source": [
    "cursor.execute(\"\"\" CREATE TABLE \"dimHospital\" (\n",
    "\"index\" INTEGER,\n",
    "  \"fips\" REAL,\n",
    "  \"state_name\" TEXT,\n",
    "  \"latitude\" REAL,\n",
    "  \"longtitude\" REAL,\n",
    "  \"hq_address\" TEXT,\n",
    "  \"hospital_type\" TEXT,\n",
    "  \"hospital_name\" TEXT,\n",
    "  \"hq_city\" TEXT,\n",
    "  \"hq_state\" TEXT\n",
    ")\n",
    "\"\"\")\n",
    "\n",
    "cursor.execute(\"\"\"\n",
    " CREATE TABLE \"dimRegion\" (\n",
    "\"index\" INTEGER,\n",
    "  \"fips\" REAL,\n",
    "  \"province_state\" TEXT,\n",
    "  \"country_region\" TEXT,\n",
    "  \"latitude\" REAL,\n",
    "  \"longitude\" REAL,\n",
    "  \"county\" TEXT,\n",
    "  \"state\" TEXT\n",
    ")\n",
    "\n",
    "\"\"\")\n",
    "\n",
    "cursor.execute(\"\"\"\n",
    " CREATE TABLE \"dimDate\" (\n",
    "\"index\" INTEGER,\n",
    "  \"fips\" INTEGER,\n",
    "  \"date\" TIMESTAMP,\n",
    "  \"Year\" INTEGER,\n",
    "  \"Month\" INTEGER,\n",
    "  \"Day\" INTEGER\n",
    ")\n",
    "\"\"\")\n",
    "\n",
    "cursor.execute(\"\"\"\n",
    " CREATE TABLE \"factcovid\" (\n",
    "\"index\" INTEGER,\n",
    "  \"fips\" REAL,\n",
    "  \"province_state\" TEXT,\n",
    "  \"country_region\" TEXT,\n",
    "  \"confirmed\" REAL,\n",
    "  \"deaths\" REAL,\n",
    "  \"recovered\" REAL,\n",
    "  \"active\" REAL,\n",
    "  \"date\" INTEGER,\n",
    "  \"positive\" REAL,\n",
    "  \"negative\" REAL,\n",
    "  \"hospitalized\" REAL,\n",
    "  \"hospitalizeddischarged\" REAL\n",
    ")\n",
    "\"\"\")"
   ]
  },
  {
   "cell_type": "code",
   "execution_count": 0,
   "metadata": {
    "application/vnd.databricks.v1+cell": {
     "inputWidgets": {},
     "nuid": "0e374f82-977f-46f3-ac9d-b6da4cc84d83",
     "showTitle": false,
     "title": ""
    }
   },
   "outputs": [
    {
     "data": {
      "text/plain": [
       "Out[90]: <redshift_connector.cursor.Cursor at 0x7fae26e22700>"
      ]
     },
     "metadata": {
      "application/vnd.databricks.v1+output": {
       "addedWidgets": {},
       "arguments": {},
       "data": "Out[90]: <redshift_connector.cursor.Cursor at 0x7fae26e22700>",
       "datasetInfos": [],
       "metadata": {},
       "removedWidgets": [],
       "type": "ansi"
      }
     },
     "output_type": "display_data"
    }
   ],
   "source": [
    "cursor.execute(\"\"\"\n",
    "    copy dimDate from 's3://covid-19-data-ruthvik/output/dimDate.csv'\n",
    "    credentials 'aws_iam_role=arn:aws:iam::528027818862:role/service-role/AmazonRedshift-CommandsAccessRole-20220528T003050'\n",
    "    delimiter ','\n",
    "    region 'us-east-2'\n",
    "    IGNOREHEADER 1\n",
    "\"\"\")"
   ]
  },
  {
   "cell_type": "code",
   "execution_count": 0,
   "metadata": {
    "application/vnd.databricks.v1+cell": {
     "inputWidgets": {},
     "nuid": "8249d33f-fc92-4ef9-928a-074d3c2d7626",
     "showTitle": false,
     "title": ""
    }
   },
   "outputs": [
    {
     "data": {
      "text/plain": [
       "Out[91]: <redshift_connector.cursor.Cursor at 0x7fae26e22700>"
      ]
     },
     "metadata": {
      "application/vnd.databricks.v1+output": {
       "addedWidgets": {},
       "arguments": {},
       "data": "Out[91]: <redshift_connector.cursor.Cursor at 0x7fae26e22700>",
       "datasetInfos": [],
       "metadata": {},
       "removedWidgets": [],
       "type": "ansi"
      }
     },
     "output_type": "display_data"
    }
   ],
   "source": [
    "cursor.execute(\"\"\"\n",
    "    copy dimHospital from 's3://covid-19-data-ruthvik/output/dimHospital.csv'\n",
    "    credentials 'aws_iam_role=arn:aws:iam::528027818862:role/service-role/AmazonRedshift-CommandsAccessRole-20220528T003050'\n",
    "    delimiter ','\n",
    "    region 'us-east-2'\n",
    "    IGNOREHEADER 1\n",
    "\"\"\")"
   ]
  },
  {
   "cell_type": "code",
   "execution_count": 0,
   "metadata": {
    "application/vnd.databricks.v1+cell": {
     "inputWidgets": {},
     "nuid": "04a3a1e7-836b-4ac6-9c40-ea41e75eb88b",
     "showTitle": false,
     "title": ""
    }
   },
   "outputs": [
    {
     "data": {
      "text/plain": [
       "Out[92]: <redshift_connector.cursor.Cursor at 0x7fae26e22700>"
      ]
     },
     "metadata": {
      "application/vnd.databricks.v1+output": {
       "addedWidgets": {},
       "arguments": {},
       "data": "Out[92]: <redshift_connector.cursor.Cursor at 0x7fae26e22700>",
       "datasetInfos": [],
       "metadata": {},
       "removedWidgets": [],
       "type": "ansi"
      }
     },
     "output_type": "display_data"
    }
   ],
   "source": [
    "cursor.execute(\"\"\"\n",
    "    copy dimRegion from 's3://covid-19-data-ruthvik/output/dimRegion.csv'\n",
    "    credentials 'aws_iam_role=arn:aws:iam::528027818862:role/service-role/AmazonRedshift-CommandsAccessRole-20220528T003050'\n",
    "    delimiter ','\n",
    "    region 'us-east-2'\n",
    "    IGNOREHEADER 1\n",
    "\"\"\")"
   ]
  },
  {
   "cell_type": "code",
   "execution_count": 0,
   "metadata": {
    "application/vnd.databricks.v1+cell": {
     "inputWidgets": {},
     "nuid": "196fe393-d86a-4ce0-9e47-68cee7eb72a5",
     "showTitle": false,
     "title": ""
    }
   },
   "outputs": [
    {
     "data": {
      "text/plain": [
       "Out[93]: <redshift_connector.cursor.Cursor at 0x7fae26e22700>"
      ]
     },
     "metadata": {
      "application/vnd.databricks.v1+output": {
       "addedWidgets": {},
       "arguments": {},
       "data": "Out[93]: <redshift_connector.cursor.Cursor at 0x7fae26e22700>",
       "datasetInfos": [],
       "metadata": {},
       "removedWidgets": [],
       "type": "ansi"
      }
     },
     "output_type": "display_data"
    }
   ],
   "source": [
    "cursor.execute(\"\"\"\n",
    "    copy factcovid from 's3://covid-19-data-ruthvik/output/factcovid.csv'\n",
    "    credentials 'aws_iam_role=arn:aws:iam::528027818862:role/service-role/AmazonRedshift-CommandsAccessRole-20220528T003050'\n",
    "    delimiter ','\n",
    "    region 'us-east-2'\n",
    "    IGNOREHEADER 1\n",
    "\"\"\")"
   ]
  },
  {
   "cell_type": "code",
   "execution_count": 0,
   "metadata": {
    "application/vnd.databricks.v1+cell": {
     "inputWidgets": {},
     "nuid": "dcdf0ad6-5c38-4723-8095-338c1569796f",
     "showTitle": false,
     "title": ""
    }
   },
   "outputs": [],
   "source": []
  }
 ],
 "metadata": {
  "application/vnd.databricks.v1+notebook": {
   "dashboards": [],
   "language": "python",
   "notebookMetadata": {
    "pythonIndentUnit": 4
   },
   "notebookName": "covid-19-ETL",
   "notebookOrigID": 231963843550927,
   "widgets": {}
  },
  "kernelspec": {
   "display_name": "Python 3 (ipykernel)",
   "language": "python",
   "name": "python3"
  },
  "language_info": {
   "codemirror_mode": {
    "name": "ipython",
    "version": 3
   },
   "file_extension": ".py",
   "mimetype": "text/x-python",
   "name": "python",
   "nbconvert_exporter": "python",
   "pygments_lexer": "ipython3",
   "version": "3.9.6"
  }
 },
 "nbformat": 4,
 "nbformat_minor": 1
}
